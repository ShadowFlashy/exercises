{
 "cells": [
  {
   "cell_type": "code",
   "execution_count": 13,
   "metadata": {},
   "outputs": [],
   "source": [
    "import pandas as pd\n",
    "\n",
    "# DataFrame Creation\n",
    "data = {\n",
    "    'EmployeeID': [101, 102, 103, 104, 105],\n",
    "    'Name': ['Alice', 'Bob', 'Charlie', 'David', 'Emma'],\n",
    "    'Department': ['HR', 'IT', 'Finance', 'Marketing', 'Sales'],\n",
    "    'Salary': [60000, 75000, 80000, 70000, 65000]\n",
    "}\n",
    "employees = pd.DataFrame(data)\n"
   ]
  },
  {
   "cell_type": "code",
   "execution_count": 1,
   "metadata": {},
   "outputs": [
    {
     "name": "stdout",
     "output_type": "stream",
     "text": [
      "First 3 rows of the DataFrame:\n"
     ]
    },
    {
     "ename": "NameError",
     "evalue": "name 'employees' is not defined",
     "output_type": "error",
     "traceback": [
      "\u001b[1;31m---------------------------------------------------------------------------\u001b[0m",
      "\u001b[1;31mNameError\u001b[0m                                 Traceback (most recent call last)",
      "Cell \u001b[1;32mIn[1], line 3\u001b[0m\n\u001b[0;32m      1\u001b[0m \u001b[38;5;66;03m# Data Exploration\u001b[39;00m\n\u001b[0;32m      2\u001b[0m \u001b[38;5;28mprint\u001b[39m(\u001b[38;5;124m\"\u001b[39m\u001b[38;5;124mFirst 3 rows of the DataFrame:\u001b[39m\u001b[38;5;124m\"\u001b[39m)\n\u001b[1;32m----> 3\u001b[0m \u001b[38;5;28mprint\u001b[39m(\u001b[43memployees\u001b[49m\u001b[38;5;241m.\u001b[39mhead(\u001b[38;5;241m3\u001b[39m))  \u001b[38;5;66;03m# Display first 3 rows\u001b[39;00m\n\u001b[0;32m      4\u001b[0m \u001b[38;5;28mprint\u001b[39m()\n",
      "\u001b[1;31mNameError\u001b[0m: name 'employees' is not defined"
     ]
    }
   ],
   "source": [
    "# Data Exploration\n",
    "print(\"First 3 rows of the DataFrame:\")\n",
    "print(employees.head(3))  # Display first 3 rows\n",
    "print()"
   ]
  },
  {
   "cell_type": "code",
   "execution_count": 15,
   "metadata": {},
   "outputs": [
    {
     "name": "stdout",
     "output_type": "stream",
     "text": [
      "Summary statistics for the 'Salary' column:\n",
      "count        5.00000\n",
      "mean     70000.00000\n",
      "std       7905.69415\n",
      "min      60000.00000\n",
      "25%      65000.00000\n",
      "50%      70000.00000\n",
      "75%      75000.00000\n",
      "max      80000.00000\n",
      "Name: Salary, dtype: float64\n",
      "\n"
     ]
    }
   ],
   "source": [
    "print(\"Summary statistics for the 'Salary' column:\")\n",
    "print(employees['Salary'].describe())  # Summary statistics for Salary column\n",
    "print()"
   ]
  },
  {
   "cell_type": "code",
   "execution_count": 16,
   "metadata": {},
   "outputs": [
    {
     "name": "stdout",
     "output_type": "stream",
     "text": [
      "Number of employees in each department:\n",
      "Department\n",
      "HR           1\n",
      "IT           1\n",
      "Finance      1\n",
      "Marketing    1\n",
      "Sales        1\n",
      "Name: count, dtype: int64\n",
      "\n"
     ]
    }
   ],
   "source": [
    "print(\"Number of employees in each department:\")\n",
    "print(employees['Department'].value_counts())  # Count of employees in each department\n",
    "print()"
   ]
  },
  {
   "cell_type": "code",
   "execution_count": 17,
   "metadata": {},
   "outputs": [
    {
     "name": "stdout",
     "output_type": "stream",
     "text": [
      "Average salary of employees: 70000.0\n",
      "\n"
     ]
    }
   ],
   "source": [
    "# Data Analysis\n",
    "print(\"Average salary of employees:\", employees['Salary'].mean())  # Average salary\n",
    "print()"
   ]
  },
  {
   "cell_type": "code",
   "execution_count": 18,
   "metadata": {},
   "outputs": [
    {
     "name": "stdout",
     "output_type": "stream",
     "text": [
      "Employee(s) with the highest salary:\n",
      "   EmployeeID     Name Department  Salary\n",
      "2         103  Charlie    Finance   80000\n",
      "\n"
     ]
    }
   ],
   "source": [
    "max_salary = employees['Salary'].max()\n",
    "print(\"Employee(s) with the highest salary:\")\n",
    "print(employees[employees['Salary'] == max_salary])\n",
    "print()"
   ]
  },
  {
   "cell_type": "code",
   "execution_count": null,
   "metadata": {},
   "outputs": [],
   "source": [
    "min_avg_salary_dept = employees.groupby('Department')['Salary'].mean().idxmin()\n",
    "print(\"Department with the lowest average salary:\", min_avg_salary_dept)\n",
    "print()"
   ]
  },
  {
   "cell_type": "code",
   "execution_count": 1,
   "metadata": {},
   "outputs": [
    {
     "ename": "NameError",
     "evalue": "name 'employees' is not defined",
     "output_type": "error",
     "traceback": [
      "\u001b[1;31m---------------------------------------------------------------------------\u001b[0m",
      "\u001b[1;31mNameError\u001b[0m                                 Traceback (most recent call last)",
      "Cell \u001b[1;32mIn[1], line 1\u001b[0m\n\u001b[1;32m----> 1\u001b[0m employees[\u001b[38;5;124m'\u001b[39m\u001b[38;5;124mSalary Increase\u001b[39m\u001b[38;5;124m'\u001b[39m] \u001b[38;5;241m=\u001b[39m \u001b[43memployees\u001b[49m[\u001b[38;5;124m'\u001b[39m\u001b[38;5;124mSalary\u001b[39m\u001b[38;5;124m'\u001b[39m] \u001b[38;5;241m*\u001b[39m \u001b[38;5;241m1.1\u001b[39m  \u001b[38;5;66;03m# Add new column for salary increase\u001b[39;00m\n\u001b[0;32m      2\u001b[0m \u001b[38;5;28mprint\u001b[39m(\u001b[38;5;124m\"\u001b[39m\u001b[38;5;124mDataFrame with \u001b[39m\u001b[38;5;124m'\u001b[39m\u001b[38;5;124mSalary Increase\u001b[39m\u001b[38;5;124m'\u001b[39m\u001b[38;5;124m column:\u001b[39m\u001b[38;5;124m\"\u001b[39m)\n\u001b[0;32m      3\u001b[0m \u001b[38;5;28mprint\u001b[39m(employees)\n",
      "\u001b[1;31mNameError\u001b[0m: name 'employees' is not defined"
     ]
    }
   ],
   "source": [
    "employees['Salary Increase'] = employees['Salary'] * 1.1  # Add new column for salary increase\n",
    "print(\"DataFrame with 'Salary Increase' column:\")\n",
    "print(employees)"
   ]
  }
 ],
 "metadata": {
  "kernelspec": {
   "display_name": "Python 3",
   "language": "python",
   "name": "python3"
  },
  "language_info": {
   "codemirror_mode": {
    "name": "ipython",
    "version": 3
   },
   "file_extension": ".py",
   "mimetype": "text/x-python",
   "name": "python",
   "nbconvert_exporter": "python",
   "pygments_lexer": "ipython3",
   "version": "3.12.3"
  },
  "orig_nbformat": 4
 },
 "nbformat": 4,
 "nbformat_minor": 2
}
